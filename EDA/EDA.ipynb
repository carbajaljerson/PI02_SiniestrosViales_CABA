{
 "cells": [
  {
   "cell_type": "code",
   "execution_count": null,
   "metadata": {},
   "outputs": [],
   "source": [
    "#pip install folium\n",
    "#!pip install geopandas\n",
    "#!pip install geojson"
   ]
  },
  {
   "cell_type": "code",
   "execution_count": null,
   "metadata": {},
   "outputs": [],
   "source": [
    "import pandas as pd\n",
    "import numpy as np\n",
    "import pickle\n",
    "import seaborn as sns\n",
    "import warnings\n",
    "warnings.filterwarnings('ignore')\n",
    "import folium\n",
    "from folium.plugins import HeatMap\n",
    "import matplotlib.pyplot as plt\n",
    "from wordcloud import WordCloud\n",
    "import geopandas as gpd\n",
    "from shapely.geometry import Point, Polygon\n",
    "import geojson"
   ]
  },
  {
   "cell_type": "code",
   "execution_count": null,
   "metadata": {},
   "outputs": [],
   "source": [
    "with open(\"../datasets/data.pkl\", \"rb\") as file1:\n",
    "    data = pickle.load(file1)"
   ]
  },
  {
   "cell_type": "markdown",
   "metadata": {},
   "source": [
    "Listando las primeras 10 filas del DataFrame"
   ]
  },
  {
   "cell_type": "code",
   "execution_count": null,
   "metadata": {},
   "outputs": [],
   "source": [
    "data.head(10)"
   ]
  },
  {
   "cell_type": "markdown",
   "metadata": {},
   "source": [
    "Consultando información sobre tipo de índice, los tipos de datos por columna, valores no nulos y uso de memoria en el DataFrame\n"
   ]
  },
  {
   "cell_type": "code",
   "execution_count": null,
   "metadata": {},
   "outputs": [],
   "source": [
    "data.info()"
   ]
  },
  {
   "cell_type": "markdown",
   "metadata": {},
   "source": [
    "Consulta del resumen estadístico de las columnas numéricas presentes en el DataFrame. Este método calcula algunas medidas estadísticas como percentil, media y desviación estándar de los valores numéricos del DataFrame"
   ]
  },
  {
   "cell_type": "code",
   "execution_count": null,
   "metadata": {},
   "outputs": [],
   "source": [
    "data.describe()"
   ]
  },
  {
   "cell_type": "markdown",
   "metadata": {},
   "source": [
    "Consultando el Porcentaje de valores nulos por columna"
   ]
  },
  {
   "cell_type": "code",
   "execution_count": null,
   "metadata": {},
   "outputs": [],
   "source": [
    "porcentaje_nulos = data.isna().sum().sort_values(ascending=False) / len(data)\n",
    "porcentaje_nulos"
   ]
  },
  {
   "cell_type": "code",
   "execution_count": null,
   "metadata": {},
   "outputs": [],
   "source": [
    "porcentaje_nulos[porcentaje_nulos != 0].plot(kind='barh')"
   ]
  },
  {
   "cell_type": "markdown",
   "metadata": {},
   "source": [
    "El procentaje de valores nulos por Columna, es muy bajo y no llegan al 30% lo cual es una buena señal para no prescindir de esas filas o rellenarlos a través de la media"
   ]
  },
  {
   "cell_type": "code",
   "execution_count": null,
   "metadata": {},
   "outputs": [],
   "source": [
    "print(f\"Numero de filas duplicadas = {data.duplicated().sum()}\")"
   ]
  },
  {
   "cell_type": "markdown",
   "metadata": {},
   "source": [
    "Realizamos una descripción estadística sobre las de columnas de tipo texto"
   ]
  },
  {
   "cell_type": "code",
   "execution_count": null,
   "metadata": {},
   "outputs": [],
   "source": [
    "\n",
    "tipo_texto = data.select_dtypes(include=['object']).columns\n",
    "df_texto = data[tipo_texto]\n",
    "df_texto.describe()"
   ]
  },
  {
   "cell_type": "markdown",
   "metadata": {},
   "source": [
    "Revisión de Valores Atípicos/Extremos u Outliers"
   ]
  },
  {
   "cell_type": "code",
   "execution_count": null,
   "metadata": {},
   "outputs": [],
   "source": [
    "df_numerico = data.select_dtypes(include=['number']) "
   ]
  },
  {
   "cell_type": "code",
   "execution_count": null,
   "metadata": {},
   "outputs": [],
   "source": [
    "df_numerico"
   ]
  },
  {
   "cell_type": "code",
   "execution_count": null,
   "metadata": {},
   "outputs": [],
   "source": [
    "Q1 = df_numerico.quantile(0.25)\n",
    "Q3 = df_numerico.quantile(0.75)\n",
    "IQR = Q3 - Q1 \n",
    "limite_inf = Q1 - 1.5 * IQR\n",
    "limite_sup = Q3 + 1.5 * IQR\n",
    "mascaras = (df_numerico < limite_inf) | (df_numerico > limite_sup)\n",
    "valores_atipicos = df_numerico[mascaras]\n",
    "\n",
    "valores_atipicos.nro_victimas[valores_atipicos.nro_victimas.notnull()].head(10)"
   ]
  },
  {
   "cell_type": "markdown",
   "metadata": {},
   "source": [
    "Los outliers para la columna \"nro_victimas\" son los valores de 2 o 3 porque la mayor cantidad de registros estan asociados a tener como número de victimas el valor de 1"
   ]
  },
  {
   "cell_type": "markdown",
   "metadata": {},
   "source": [
    "### Matriz de Correlación"
   ]
  },
  {
   "cell_type": "code",
   "execution_count": null,
   "metadata": {},
   "outputs": [],
   "source": [
    "data"
   ]
  },
  {
   "cell_type": "code",
   "execution_count": null,
   "metadata": {},
   "outputs": [],
   "source": [
    "# Generamos un mapa de calor con las correlaciones de los datos\n",
    "dataNumerica = data.select_dtypes(include=['number']) \n",
    "corr = dataNumerica.corr().round(2)\n",
    "plt.figure(figsize=(6,5))\n",
    "sns.heatmap(corr, cmap=\"YlGnBu\", annot=True)\n",
    "plt.show()"
   ]
  },
  {
   "cell_type": "markdown",
   "metadata": {},
   "source": [
    "Se puede verificar que existe una correlación entre la Edad y la Franja Horaria, en un posterior Análisis en PowerBi vimos la intersección con el sexo y se obtuvo una valiosa información"
   ]
  },
  {
   "cell_type": "markdown",
   "metadata": {},
   "source": [
    "## Análisis exploratorio y visualización\n",
    "\n",
    "Columnas que analizaremos:\n",
    "\n",
    "1. Comuna\n",
    "2. Franja horaria\n",
    "3. Latitud, Longitud"
   ]
  },
  {
   "cell_type": "markdown",
   "metadata": {},
   "source": [
    "A continuación se listan las comunas que existen en la Ciudad Autónoma de Buenos Aires(CABA)"
   ]
  },
  {
   "cell_type": "code",
   "execution_count": null,
   "metadata": {},
   "outputs": [],
   "source": [
    "data.comuna.unique()"
   ]
  },
  {
   "cell_type": "markdown",
   "metadata": {},
   "source": [
    "Listado de Comunas respecto a la Cantidad de Siniestros Viales en la Ciudad Autónoma de Buenos Aires(CABA)"
   ]
  },
  {
   "cell_type": "code",
   "execution_count": null,
   "metadata": {},
   "outputs": [],
   "source": [
    "comunas_by_accident = data.comuna.value_counts().sort_values()\n",
    "comunas_by_accident"
   ]
  },
  {
   "cell_type": "code",
   "execution_count": null,
   "metadata": {},
   "outputs": [],
   "source": [
    "comunas_by_accident[:17].plot(kind='barh')"
   ]
  },
  {
   "cell_type": "markdown",
   "metadata": {},
   "source": [
    "Considerando un Top 3 de las principales Comunas asociadas a una mayor cantidad de Siniestros Viales, son : Comuna 1, Comuna 4 y Comuna 9"
   ]
  },
  {
   "cell_type": "markdown",
   "metadata": {},
   "source": [
    "Valores que contiene la columna \"Franja Horaria\" vital para un posterior análisis sobre el rango de horas mas frecuentes en Siniestros Viales"
   ]
  },
  {
   "cell_type": "code",
   "execution_count": null,
   "metadata": {},
   "outputs": [],
   "source": [
    "data.franja_horaria.unique()"
   ]
  },
  {
   "cell_type": "code",
   "execution_count": null,
   "metadata": {},
   "outputs": [],
   "source": [
    "franja_accidente = data.franja_horaria.value_counts().sort_values()\n",
    "franja_accidente"
   ]
  },
  {
   "cell_type": "code",
   "execution_count": null,
   "metadata": {},
   "outputs": [],
   "source": [
    "franja_accidente[:25].plot(kind='barh')"
   ]
  },
  {
   "cell_type": "code",
   "execution_count": null,
   "metadata": {},
   "outputs": [],
   "source": [
    "dataHisto=data[['franja_horaria','nro_victimas','edad']]\n",
    "dataHisto.hist(bins = 50, figsize= (12,10))\n",
    "plt.show()"
   ]
  },
  {
   "cell_type": "markdown",
   "metadata": {},
   "source": [
    "Por medio de los gráficos anteriores podemos identificar el rango de edad de 20 a 40 años y la Franja Horaria de 5 a 10 estan asociados a una mayor cantidad de Siniestros Viales "
   ]
  },
  {
   "cell_type": "markdown",
   "metadata": {},
   "source": [
    "Se puede reconocer que el rango de horas que posee más Accidentes de Tránsitos está entre las 5 - 7 horas de la mañana"
   ]
  },
  {
   "cell_type": "code",
   "execution_count": null,
   "metadata": {},
   "outputs": [],
   "source": [
    "title_words = ' '.join(data['direc_normalizada'].astype(str))\n",
    "title_words = title_words.lower()\n",
    "stopwords = [\"de\", \"y\",\"el\", \"la\", \"&\", \":\", \"para\", \"por\", \"en\",  \"con\"]\n",
    "wordcloud = WordCloud(stopwords=stopwords, background_color='white').generate(title_words)\n",
    "\n",
    "plt.figure(figsize=(10, 5))\n",
    "plt.imshow(wordcloud, interpolation='bilinear')\n",
    "plt.axis('off')\n",
    "plt.title('Nube de Palabras - Dirección Normalizada')\n",
    "plt.show()"
   ]
  },
  {
   "cell_type": "markdown",
   "metadata": {},
   "source": [
    "Al realizar el gráfico de nube de palabras de la columna \"Dirección Normalizada\" se puede inferir que tipo el de vías asociados a una mayor cantidad de Siniestros Viales es la Avenida aquí podemos reconocer a la Avenida Gral Paz en un analisis posterior será importante identificar las avenidas por comuna que presentan mayor cantidad de Accidentes de Tránsito"
   ]
  },
  {
   "cell_type": "markdown",
   "metadata": {},
   "source": [
    "Consultando los valores de Latitud y longitud para un posterior Análisis de GeoLocalización"
   ]
  },
  {
   "cell_type": "code",
   "execution_count": null,
   "metadata": {},
   "outputs": [],
   "source": [
    "data.latitud"
   ]
  },
  {
   "cell_type": "code",
   "execution_count": null,
   "metadata": {},
   "outputs": [],
   "source": [
    "data.longitud"
   ]
  },
  {
   "cell_type": "markdown",
   "metadata": {},
   "source": [
    "Hallamos la localización de los Siniestros Viales a partir de la latitud y longitud\n"
   ]
  },
  {
   "cell_type": "code",
   "execution_count": null,
   "metadata": {},
   "outputs": [],
   "source": [
    "dataLocalizacion = data[data['latitud'].notnull()]\n",
    "dataLocalizacion = dataLocalizacion[dataLocalizacion['longitud'].notnull()]\n",
    "\n",
    "lat_lon_pairs = list(zip(list(dataLocalizacion.latitud), list(dataLocalizacion.longitud)))"
   ]
  },
  {
   "cell_type": "markdown",
   "metadata": {},
   "source": [
    "Usando Folium para generar un mapa simple a partir de los datos de Localización"
   ]
  },
  {
   "cell_type": "code",
   "execution_count": null,
   "metadata": {},
   "outputs": [],
   "source": [
    "map = folium.Map(location=[-58,-34], zoom_start=3.4)\n",
    "HeatMap(lat_lon_pairs).add_to(map)\n"
   ]
  },
  {
   "cell_type": "code",
   "execution_count": null,
   "metadata": {},
   "outputs": [],
   "source": [
    "map"
   ]
  },
  {
   "cell_type": "markdown",
   "metadata": {},
   "source": [
    "Antes de comenzar a usar geopandas, se define el sistema de referencia de coordenadas (CRS) este le dice a Python cómo se relacionan esas coordenadas con los lugares de la Tierra luego se necesita decirle a Python el sistema de referencia de coordenadas."
   ]
  },
  {
   "cell_type": "code",
   "execution_count": null,
   "metadata": {},
   "outputs": [],
   "source": [
    "\n",
    "crs={'init':'epsg:4326'}\n"
   ]
  },
  {
   "cell_type": "markdown",
   "metadata": {},
   "source": [
    "Se define la geometría"
   ]
  },
  {
   "cell_type": "code",
   "execution_count": null,
   "metadata": {},
   "outputs": [],
   "source": [
    "\n",
    "geometry=[Point(xy) for xy in zip(data[\"longitud\"], data[\"latitud\"])]"
   ]
  },
  {
   "cell_type": "markdown",
   "metadata": {},
   "source": [
    "Se tiene sistema de referencia y la geometría en su lugar, finalmente carguemos nuestros datos"
   ]
  },
  {
   "cell_type": "code",
   "execution_count": null,
   "metadata": {},
   "outputs": [],
   "source": [
    "\n",
    "geodata=gpd.GeoDataFrame(data,crs=crs, geometry=geometry)"
   ]
  },
  {
   "cell_type": "markdown",
   "metadata": {},
   "source": [
    "Se muestran los puntos de datos que se asignaron en función de la latitud y la longitud "
   ]
  },
  {
   "cell_type": "code",
   "execution_count": null,
   "metadata": {},
   "outputs": [],
   "source": [
    "\n",
    "geodata.plot()"
   ]
  },
  {
   "cell_type": "markdown",
   "metadata": {},
   "source": [
    "Ahora se mapearan los puntos en un mapa real y se necesita usar un archivo Shapefile de la Ciudad de Buenos Aires"
   ]
  },
  {
   "cell_type": "code",
   "execution_count": null,
   "metadata": {},
   "outputs": [],
   "source": [
    "\n",
    "shapefile = gpd.read_file(r'../comunas/comunas_wgs84.shp')"
   ]
  },
  {
   "cell_type": "markdown",
   "metadata": {},
   "source": [
    "Ahora podemos trazar el mapa de la Ciudad Atónoma de Buenos Aires y luego agregar los puntos que hacen referencia a la localización de los Siniestros Viales"
   ]
  },
  {
   "cell_type": "code",
   "execution_count": null,
   "metadata": {},
   "outputs": [],
   "source": [
    "\n",
    "fig, ax = plt.subplots(figsize=(7,7))\n",
    "\n",
    "shapefile.plot(ax=ax, facecolor='Grey', edgecolor='k',alpha=1,linewidth=1,cmap=\"cividis\")\n",
    "\n",
    "geodata.plot(ax=ax, color='red', markersize=5);\n",
    "\n",
    "fig.suptitle('Ciudad Buenos Aires', fontsize=12)\n",
    "ax.set_xlabel('Longitud', fontsize=10)\n",
    "ax.set_ylabel('Latitud', fontsize='medium')"
   ]
  }
 ],
 "metadata": {
  "kernelspec": {
   "display_name": "Python 3",
   "language": "python",
   "name": "python3"
  },
  "language_info": {
   "codemirror_mode": {
    "name": "ipython",
    "version": 3
   },
   "file_extension": ".py",
   "mimetype": "text/x-python",
   "name": "python",
   "nbconvert_exporter": "python",
   "pygments_lexer": "ipython3",
   "version": "3.11.4"
  },
  "orig_nbformat": 4
 },
 "nbformat": 4,
 "nbformat_minor": 2
}
